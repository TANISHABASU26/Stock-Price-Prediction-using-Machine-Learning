{
 "cells": [
  {
   "cell_type": "markdown",
   "id": "6f995380",
   "metadata": {},
   "source": [
    "https://www.youtube.com/watch?v=EYnC4ACIt2g&list=PLqcF-HKeIFjPY_gJDbqoouJEbGNnYhboT&index=1"
   ]
  },
  {
   "cell_type": "code",
   "execution_count": 7,
   "id": "3725d917",
   "metadata": {},
   "outputs": [],
   "source": [
    "#this program predicts stock prices by using machine learning models"
   ]
  },
  {
   "cell_type": "code",
   "execution_count": 8,
   "id": "a195e66b",
   "metadata": {},
   "outputs": [],
   "source": [
    "#install dependencies "
   ]
  },
  {
   "cell_type": "code",
   "execution_count": 9,
   "id": "0202d8c0",
   "metadata": {},
   "outputs": [
    {
     "name": "stdout",
     "output_type": "stream",
     "text": [
      "Requirement already satisfied: quandl in c:\\users\\tanis\\anaconda3\\lib\\site-packages (3.7.0)\n",
      "Requirement already satisfied: pandas>=0.14 in c:\\users\\tanis\\anaconda3\\lib\\site-packages (from quandl) (1.4.2)\n",
      "Requirement already satisfied: inflection>=0.3.1 in c:\\users\\tanis\\anaconda3\\lib\\site-packages (from quandl) (0.5.1)\n",
      "Requirement already satisfied: requests>=2.7.0 in c:\\users\\tanis\\anaconda3\\lib\\site-packages (from quandl) (2.27.1)\n",
      "Requirement already satisfied: numpy>=1.8 in c:\\users\\tanis\\anaconda3\\lib\\site-packages (from quandl) (1.22.4)\n",
      "Requirement already satisfied: python-dateutil in c:\\users\\tanis\\anaconda3\\lib\\site-packages (from quandl) (2.8.2)\n",
      "Requirement already satisfied: six in c:\\users\\tanis\\anaconda3\\lib\\site-packages (from quandl) (1.16.0)\n",
      "Requirement already satisfied: more-itertools in c:\\users\\tanis\\anaconda3\\lib\\site-packages (from quandl) (10.3.0)\n",
      "Requirement already satisfied: pytz>=2020.1 in c:\\users\\tanis\\anaconda3\\lib\\site-packages (from pandas>=0.14->quandl) (2021.3)\n",
      "Requirement already satisfied: charset-normalizer~=2.0.0 in c:\\users\\tanis\\anaconda3\\lib\\site-packages (from requests>=2.7.0->quandl) (2.0.4)\n",
      "Requirement already satisfied: idna<4,>=2.5 in c:\\users\\tanis\\anaconda3\\lib\\site-packages (from requests>=2.7.0->quandl) (3.3)\n",
      "Requirement already satisfied: urllib3<1.27,>=1.21.1 in c:\\users\\tanis\\anaconda3\\lib\\site-packages (from requests>=2.7.0->quandl) (1.26.9)\n",
      "Requirement already satisfied: certifi>=2017.4.17 in c:\\users\\tanis\\anaconda3\\lib\\site-packages (from requests>=2.7.0->quandl) (2021.10.8)\n"
     ]
    }
   ],
   "source": [
    "!pip install quandl"
   ]
  },
  {
   "cell_type": "code",
   "execution_count": 10,
   "id": "698c91c2",
   "metadata": {},
   "outputs": [],
   "source": [
    "import quandl\n",
    "import numpy as np\n",
    "from sklearn.linear_model import LinearRegression\n",
    "from sklearn.svm import SVR\n",
    "from sklearn.model_selection import train_test_split"
   ]
  },
  {
   "cell_type": "code",
   "execution_count": 11,
   "id": "f9ecc25c",
   "metadata": {},
   "outputs": [],
   "source": [
    "#get the stock data\n",
    "df = quandl.get(\"WIKI/FB\")"
   ]
  },
  {
   "cell_type": "code",
   "execution_count": 12,
   "id": "d1761994",
   "metadata": {},
   "outputs": [
    {
     "name": "stdout",
     "output_type": "stream",
     "text": [
      "             Open   High    Low    Close       Volume  Ex-Dividend  \\\n",
      "Date                                                                 \n",
      "2012-05-18  42.05  45.00  38.00  38.2318  573576400.0          0.0   \n",
      "2012-05-21  36.53  36.66  33.00  34.0300  168192700.0          0.0   \n",
      "2012-05-22  32.61  33.59  30.94  31.0000  101786600.0          0.0   \n",
      "2012-05-23  31.37  32.50  31.36  32.0000   73600000.0          0.0   \n",
      "2012-05-24  32.95  33.21  31.77  33.0300   50237200.0          0.0   \n",
      "\n",
      "            Split Ratio  Adj. Open  Adj. High  Adj. Low  Adj. Close  \\\n",
      "Date                                                                  \n",
      "2012-05-18          1.0      42.05      45.00     38.00     38.2318   \n",
      "2012-05-21          1.0      36.53      36.66     33.00     34.0300   \n",
      "2012-05-22          1.0      32.61      33.59     30.94     31.0000   \n",
      "2012-05-23          1.0      31.37      32.50     31.36     32.0000   \n",
      "2012-05-24          1.0      32.95      33.21     31.77     33.0300   \n",
      "\n",
      "            Adj. Volume  \n",
      "Date                     \n",
      "2012-05-18  573576400.0  \n",
      "2012-05-21  168192700.0  \n",
      "2012-05-22  101786600.0  \n",
      "2012-05-23   73600000.0  \n",
      "2012-05-24   50237200.0  \n"
     ]
    }
   ],
   "source": [
    "print(df.head())"
   ]
  },
  {
   "cell_type": "code",
   "execution_count": 13,
   "id": "539186ae",
   "metadata": {},
   "outputs": [],
   "source": [
    "#Getthe adjusted close price\n",
    "df = df[['Adj. Close']]"
   ]
  },
  {
   "cell_type": "code",
   "execution_count": 14,
   "id": "7379f213",
   "metadata": {},
   "outputs": [
    {
     "name": "stdout",
     "output_type": "stream",
     "text": [
      "            Adj. Close\n",
      "Date                  \n",
      "2012-05-18     38.2318\n",
      "2012-05-21     34.0300\n",
      "2012-05-22     31.0000\n",
      "2012-05-23     32.0000\n",
      "2012-05-24     33.0300\n"
     ]
    }
   ],
   "source": [
    "print(df.head())"
   ]
  },
  {
   "cell_type": "code",
   "execution_count": 41,
   "id": "fa503171",
   "metadata": {},
   "outputs": [],
   "source": [
    "#A variable to predict 'n' days out into the future\n",
    "forecast_out = 30\n",
    "#Create another variable in the column (the target or dependable ),shifted n units up!\n",
    "df['Prediction']= df[['Adj. Close']].shift(-forecast_out)"
   ]
  },
  {
   "cell_type": "code",
   "execution_count": 16,
   "id": "7b50d908",
   "metadata": {},
   "outputs": [
    {
     "name": "stdout",
     "output_type": "stream",
     "text": [
      "            Adj. Close  Prediction\n",
      "Date                              \n",
      "2012-05-18     38.2318      30.771\n",
      "2012-05-21     34.0300      31.200\n",
      "2012-05-22     31.0000      31.470\n",
      "2012-05-23     32.0000      31.730\n",
      "2012-05-24     33.0300      32.170\n"
     ]
    }
   ],
   "source": [
    "print(df.head()) #moving the prices up by one unit.if todays prices is 38 it is predicted tomorrows price will be 34 etc"
   ]
  },
  {
   "cell_type": "code",
   "execution_count": 17,
   "id": "4c6728cd",
   "metadata": {
    "scrolled": true
   },
   "outputs": [
    {
     "name": "stdout",
     "output_type": "stream",
     "text": [
      "            Adj. Close  Prediction\n",
      "Date                              \n",
      "2018-03-21      169.39         NaN\n",
      "2018-03-22      164.89         NaN\n",
      "2018-03-23      159.39         NaN\n",
      "2018-03-26      160.06         NaN\n",
      "2018-03-27      152.19         NaN\n"
     ]
    }
   ],
   "source": [
    "print(df.tail())"
   ]
  },
  {
   "cell_type": "code",
   "execution_count": 18,
   "id": "3d3a0ca0",
   "metadata": {},
   "outputs": [
    {
     "name": "stdout",
     "output_type": "stream",
     "text": [
      "Index(['Adj. Close', 'Prediction'], dtype='object')\n"
     ]
    }
   ],
   "source": [
    "# Check the columns of the DataFrame\n",
    "print(df.columns)\n",
    "\n",
    "# Ensure the 'Prediction' column exists\n"
   ]
  },
  {
   "cell_type": "code",
   "execution_count": 19,
   "id": "83960655",
   "metadata": {},
   "outputs": [
    {
     "data": {
      "text/plain": [
       "array([[ 38.2318],\n",
       "       [ 34.03  ],\n",
       "       [ 31.    ],\n",
       "       ...,\n",
       "       [171.5499],\n",
       "       [175.98  ],\n",
       "       [176.41  ]])"
      ]
     },
     "execution_count": 19,
     "metadata": {},
     "output_type": "execute_result"
    }
   ],
   "source": [
    "# Convert dataframe into Numpy array\n",
    "X = np.array(df.drop(['Prediction'], axis=1))\n",
    "\n",
    "# Remove last N rows\n",
    "X = X[:-forecast_out]\n",
    "X"
   ]
  },
  {
   "cell_type": "code",
   "execution_count": 20,
   "id": "c9cba028",
   "metadata": {},
   "outputs": [
    {
     "data": {
      "text/plain": [
       "array([ 30.771,  31.2  ,  31.47 , ..., 159.39 , 160.06 , 152.19 ])"
      ]
     },
     "execution_count": 20,
     "metadata": {},
     "output_type": "execute_result"
    }
   ],
   "source": [
    "### Create the dependent dataset Y ###\n",
    "### convert all the y values into numpy arrays including the NaN values.\n",
    "y = np.array(df['Prediction'])\n",
    "\n",
    "# Get all of the Y values except the last N rows\n",
    "y = y[:-forecast_out]\n",
    "y\n",
    "\n"
   ]
  },
  {
   "cell_type": "code",
   "execution_count": 21,
   "id": "e2c4d1c0",
   "metadata": {},
   "outputs": [],
   "source": [
    "## Split the data into 80% traning and 20% testing\n",
    "X_train,X_test,y_train,y_test = train_test_split(X,y, test_size = 0.2)"
   ]
  },
  {
   "cell_type": "code",
   "execution_count": 23,
   "id": "ec572393",
   "metadata": {},
   "outputs": [
    {
     "data": {
      "text/plain": [
       "SVR(C=1000.0, gamma=0.1)"
      ]
     },
     "execution_count": 23,
     "metadata": {},
     "output_type": "execute_result"
    }
   ],
   "source": [
    "#create and train the model using Support Vector Machine Learning model.\n",
    "svr_rbf =SVR(kernel='rbf', C=1e3, gamma=0.1)\n",
    "svr_rbf.fit(X_train,y_train)"
   ]
  },
  {
   "cell_type": "code",
   "execution_count": 27,
   "id": "9a027a85",
   "metadata": {},
   "outputs": [
    {
     "name": "stdout",
     "output_type": "stream",
     "text": [
      "The svm_confidence score is: 0.9851325175930897\n"
     ]
    }
   ],
   "source": [
    "#TESTING MODEL :SCORE RETURNS THE COEFFICIENT OF DETERMINATION R^2 OF THE PREDICTION\n",
    "svm_confidence = svr_rbf.score(X_test,y_test)\n",
    "print(\"The svm_confidence score is:\",svm_confidence)"
   ]
  },
  {
   "cell_type": "code",
   "execution_count": 28,
   "id": "222734c7",
   "metadata": {},
   "outputs": [
    {
     "data": {
      "text/plain": [
       "LinearRegression()"
      ]
     },
     "execution_count": 28,
     "metadata": {},
     "output_type": "execute_result"
    }
   ],
   "source": [
    "#create and train the linear regression model\n",
    "clrm = LinearRegression()\n",
    "clrm.fit(X_train , y_train)"
   ]
  },
  {
   "cell_type": "code",
   "execution_count": 29,
   "id": "f0267c0f",
   "metadata": {},
   "outputs": [
    {
     "name": "stdout",
     "output_type": "stream",
     "text": [
      "The clrm_confidence score is: 0.9804591908131837\n"
     ]
    }
   ],
   "source": [
    "#TESTING MODEL :SCORE RETURNS THE COEFFICIENT OF DETERMINATION R^2 OF THE PREDICTION\n",
    "#BEST SCORE IS A SCORE OF 1\n",
    "clrm_confidence = clrm.score(X_test,y_test)\n",
    "print(\"The clrm_confidence score is:\",clrm_confidence)"
   ]
  },
  {
   "cell_type": "code",
   "execution_count": 48,
   "id": "6ef186a2",
   "metadata": {},
   "outputs": [
    {
     "name": "stderr",
     "output_type": "stream",
     "text": [
      "C:\\Users\\tanis\\AppData\\Local\\Temp\\ipykernel_18500\\2762601020.py:3: FutureWarning: In a future version of pandas all arguments of DataFrame.drop except for the argument 'labels' will be keyword-only.\n",
      "  x_forecast = np.array(df.drop(['Prediction'],1))[-forecast_out:]\n"
     ]
    },
    {
     "data": {
      "text/plain": [
       "array([[173.15],\n",
       "       [179.52],\n",
       "       [179.96],\n",
       "       [177.36],\n",
       "       [176.01],\n",
       "       [177.91],\n",
       "       [178.99],\n",
       "       [183.29],\n",
       "       [184.93],\n",
       "       [181.46],\n",
       "       [178.32],\n",
       "       [175.94],\n",
       "       [176.62],\n",
       "       [180.4 ],\n",
       "       [179.78],\n",
       "       [183.71],\n",
       "       [182.34],\n",
       "       [185.23],\n",
       "       [184.76],\n",
       "       [181.88],\n",
       "       [184.19],\n",
       "       [183.86],\n",
       "       [185.09],\n",
       "       [172.56],\n",
       "       [168.15],\n",
       "       [169.39],\n",
       "       [164.89],\n",
       "       [159.39],\n",
       "       [160.06],\n",
       "       [152.19]])"
      ]
     },
     "execution_count": 48,
     "metadata": {},
     "output_type": "execute_result"
    }
   ],
   "source": [
    "#Set x_forecast equal to the last 30 rows of the adjusted close price in the original \n",
    "df\n",
    "x_forecast = np.array(df.drop(['Prediction'],1))[-forecast_out:]\n",
    "x_forecast\n"
   ]
  },
  {
   "cell_type": "code",
   "execution_count": 51,
   "id": "011b76b7",
   "metadata": {},
   "outputs": [],
   "source": [
    "#Linear model prediction:\n",
    "clrm_prediction = clrm.predict(x_forecast)"
   ]
  },
  {
   "cell_type": "code",
   "execution_count": 50,
   "id": "1b1bc531",
   "metadata": {},
   "outputs": [
    {
     "name": "stdout",
     "output_type": "stream",
     "text": [
      "[177.11569728 183.55495033 183.9997339  181.37146735 180.00679049\n",
      " 181.92744681 183.0191883  187.36593683 189.02376649 185.51604152\n",
      " 182.34190423 179.93602946 180.62342225 184.44451747 183.81777698\n",
      " 187.79050296 186.40560866 189.32702802 188.8519183  185.94060766\n",
      " 188.2757214  187.94213372 189.18550597 176.51928295 172.06133853\n",
      " 173.3148195  168.76589663 163.206102   163.88338608 155.9278254 ]\n"
     ]
    }
   ],
   "source": [
    "print(clrm_prediction)"
   ]
  },
  {
   "cell_type": "code",
   "execution_count": 52,
   "id": "df1ec33a",
   "metadata": {},
   "outputs": [],
   "source": [
    "svm_prediction = svr_rbf.predict(x_forecast)"
   ]
  },
  {
   "cell_type": "code",
   "execution_count": 53,
   "id": "7fecae90",
   "metadata": {},
   "outputs": [
    {
     "name": "stdout",
     "output_type": "stream",
     "text": [
      "[177.05157605 178.83179966 178.53818742 177.38946419 176.9998477\n",
      " 177.8311302  178.92515673 187.06405471 179.14358128 181.88197534\n",
      " 178.33404026 176.93401073 177.26924399 178.51295842 178.65523244\n",
      " 185.09508247 186.66894972 178.9093843  179.55984417 184.31670514\n",
      " 182.21713809 184.2141307  178.93971557 178.34531184 171.69847266\n",
      " 172.21736357 172.18432145 168.03225907 166.14545708 157.83496617]\n"
     ]
    }
   ],
   "source": [
    "print(svm_prediction)"
   ]
  },
  {
   "cell_type": "code",
   "execution_count": null,
   "id": "5edc4dc0",
   "metadata": {},
   "outputs": [],
   "source": []
  }
 ],
 "metadata": {
  "kernelspec": {
   "display_name": "Python 3 (ipykernel)",
   "language": "python",
   "name": "python3"
  },
  "language_info": {
   "codemirror_mode": {
    "name": "ipython",
    "version": 3
   },
   "file_extension": ".py",
   "mimetype": "text/x-python",
   "name": "python",
   "nbconvert_exporter": "python",
   "pygments_lexer": "ipython3",
   "version": "3.9.12"
  }
 },
 "nbformat": 4,
 "nbformat_minor": 5
}
